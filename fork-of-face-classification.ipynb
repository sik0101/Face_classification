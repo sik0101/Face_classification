{
 "cells": [
  {
   "cell_type": "code",
   "execution_count": 23,
   "metadata": {
    "_cell_guid": "d0d868b5-9b9b-486b-b111-7f54da23dd50",
    "_uuid": "676ed323-aa7c-4bea-b98a-ed658365e950",
    "collapsed": false,
    "execution": {
     "iopub.execute_input": "2025-05-27T00:50:27.042539Z",
     "iopub.status.busy": "2025-05-27T00:50:27.042238Z",
     "iopub.status.idle": "2025-05-27T00:50:27.046617Z",
     "shell.execute_reply": "2025-05-27T00:50:27.045783Z",
     "shell.execute_reply.started": "2025-05-27T00:50:27.042513Z"
    },
    "jupyter": {
     "outputs_hidden": false
    },
    "trusted": true
   },
   "outputs": [],
   "source": [
    "# pip install facenet_pytorch"
   ]
  },
  {
   "cell_type": "code",
   "execution_count": 24,
   "metadata": {
    "execution": {
     "iopub.execute_input": "2025-05-27T00:50:27.047755Z",
     "iopub.status.busy": "2025-05-27T00:50:27.047493Z",
     "iopub.status.idle": "2025-05-27T00:50:41.069094Z",
     "shell.execute_reply": "2025-05-27T00:50:41.068482Z",
     "shell.execute_reply.started": "2025-05-27T00:50:27.047731Z"
    },
    "trusted": true
   },
   "outputs": [],
   "source": [
    "%matplotlib inline\n",
    "from sklearn.model_selection import train_test_split\n",
    "import torch\n",
    "from torchvision import datasets, transforms\n",
    "import torch.nn.functional as F\n",
    "from torch import nn \n",
    "from PIL import Image\n",
    "import numpy as np\n",
    "# from facenet_pytorch import MTCNN\n",
    "from torch.utils.data import random_split, Subset, Dataset\n",
    "import os\n",
    "import matplotlib.pyplot as plt\n",
    "from torchvision.models import resnet18, ResNet18_Weights, vgg16\n",
    "from facenet_pytorch import InceptionResnetV1\n",
    "os.environ[\"CUDA_LAUNCH_BLOCKING\"] = \"1\""
   ]
  },
  {
   "cell_type": "code",
   "execution_count": 25,
   "metadata": {
    "_cell_guid": "d0c3eaa8-b143-437b-b989-f7f890c23082",
    "_uuid": "0a0a01fd-3b2c-49ff-b144-030a2072cb73",
    "collapsed": false,
    "execution": {
     "iopub.execute_input": "2025-05-27T00:50:41.070710Z",
     "iopub.status.busy": "2025-05-27T00:50:41.070417Z",
     "iopub.status.idle": "2025-05-27T00:50:41.076567Z",
     "shell.execute_reply": "2025-05-27T00:50:41.076029Z",
     "shell.execute_reply.started": "2025-05-27T00:50:41.070694Z"
    },
    "jupyter": {
     "outputs_hidden": false
    },
    "trusted": true
   },
   "outputs": [],
   "source": [
    "import torch.utils\n",
    "import torch.utils.data\n",
    "\n",
    "# mtcnn = MTCNN(image_size=224, margin=0, device='cuda:1')\n",
    "\n",
    "# def align_face(image):\n",
    "#     align = mtcnn(image)\n",
    "#     if align is None:\n",
    "#         return image\n",
    "#     return transforms.ToPILImage()(align)\n",
    "\n",
    "train_transform = transforms.Compose([\n",
    "    # align_face,\n",
    "    # 几何变换（作用于PIL Image）\n",
    "    transforms.RandomResizedCrop(224, scale=(0.9, 1.0)),\n",
    "    transforms.RandomHorizontalFlip(),\n",
    "    transforms.RandomRotation(5, fill=0),\n",
    "    \n",
    "    # 颜色变换（作用于PIL Image）\n",
    "    transforms.ColorJitter(brightness=0.15, contrast=0.1, saturation=0.1),\n",
    "\n",
    "    # 高斯模糊\n",
    "    # transforms.GaussianBlur(kernel_size=3, sigma=(0.1, 1.0)),\n",
    "    \n",
    "    # 调整锐度\n",
    "    # transforms.RandomAdjustSharpness(sharpness_factor=1.5, p=0.3),\n",
    "    \n",
    "    # 转换为张量（必须在此之后的操作均作用于Tensor)\n",
    "    transforms.ToTensor(),\n",
    "    \n",
    "    # 张量操作（需在ToTensor之后）\n",
    "    transforms.RandomErasing(p=0.3, scale=(0.02, 0.05), value=\"random\"),\n",
    "    transforms.Normalize(\n",
    "        mean=[0.4113, 0.3563, 0.3150],\n",
    "        # mean =  [0.4764, 0.4590, 0.4875],\n",
    "        std=[0.2779, 0.2487, 0.2356],\n",
    "        # std = [0.2662, 0.2968, 0.2843]\n",
    "    )\n",
    "])\n",
    "test_transform = transforms.Compose([\n",
    "    # align_face,\n",
    "    transforms.Resize((224, 224)),\n",
    "    transforms.ToTensor(),\n",
    "    transforms.Normalize(\n",
    "        mean=[0.4113, 0.3563, 0.3150],\n",
    "        # mean =  [0.4764, 0.4590, 0.4875],\n",
    "        std=[0.2779, 0.2487, 0.2356],\n",
    "        # std = [0.2662, 0.2968, 0.2843]\n",
    "    )\n",
    "])"
   ]
  },
  {
   "cell_type": "code",
   "execution_count": null,
   "metadata": {
    "_cell_guid": "37de0b4e-94d8-45c4-816b-9ff6e3c2ea34",
    "_uuid": "0f495b91-9e34-4dda-abcf-c2f820632a1f",
    "collapsed": false,
    "execution": {
     "iopub.execute_input": "2025-05-27T00:50:41.077312Z",
     "iopub.status.busy": "2025-05-27T00:50:41.077095Z",
     "iopub.status.idle": "2025-05-27T00:50:41.132617Z",
     "shell.execute_reply": "2025-05-27T00:50:41.131915Z",
     "shell.execute_reply.started": "2025-05-27T00:50:41.077297Z"
    },
    "jupyter": {
     "outputs_hidden": false
    },
    "trusted": true
   },
   "outputs": [],
   "source": [
    "# def visualization(image, transform, num_samples=5):\n",
    "#     plt.figure(figsize=(15, 6))\n",
    "#     plt.subplot(3, 6, 1)\n",
    "#     plt.axis('off') \n",
    "#     plt.imshow(image)\n",
    "#     plt.title('initial')\n",
    "\n",
    "#     for i in range(num_samples):\n",
    "#         augmented = transform(image)\n",
    "#         if isinstance(augmented, torch.Tensor):\n",
    "#             augmented = transforms.ToPILImage()(augmented)\n",
    "#         plt.subplot(3, 6, i+2)\n",
    "#         plt.axis('off') \n",
    "#         plt.imshow(augmented)\n",
    "#         plt.title(f'transform{i+1}')\n",
    "\n",
    "#     plt.tight_layout()\n",
    "#     plt.show()"
   ]
  },
  {
   "cell_type": "code",
   "execution_count": 27,
   "metadata": {
    "_cell_guid": "2c73b052-021d-4dce-8615-faf21005513c",
    "_uuid": "17e9aea1-50f6-43ea-b964-d672fc85565c",
    "collapsed": false,
    "execution": {
     "iopub.execute_input": "2025-05-27T00:50:41.133442Z",
     "iopub.status.busy": "2025-05-27T00:50:41.133257Z",
     "iopub.status.idle": "2025-05-27T00:50:41.154578Z",
     "shell.execute_reply": "2025-05-27T00:50:41.154032Z",
     "shell.execute_reply.started": "2025-05-27T00:50:41.133427Z"
    },
    "jupyter": {
     "outputs_hidden": false
    },
    "trusted": true
   },
   "outputs": [],
   "source": [
    "# image, label = dataset[10]\n",
    "# visualization(image, train_transform, 17)\n",
    "\n",
    "# plt.imshow(image)\n",
    "# plt.axis('off')"
   ]
  },
  {
   "cell_type": "code",
   "execution_count": 28,
   "metadata": {
    "_cell_guid": "85fca97e-99a6-4b0d-9cc1-1a9afac137b8",
    "_uuid": "75fe9ea6-cdbe-4a7e-b0f5-5e63109ea76b",
    "collapsed": false,
    "execution": {
     "iopub.execute_input": "2025-05-27T00:50:41.155497Z",
     "iopub.status.busy": "2025-05-27T00:50:41.155232Z",
     "iopub.status.idle": "2025-05-27T00:50:41.172963Z",
     "shell.execute_reply": "2025-05-27T00:50:41.172413Z",
     "shell.execute_reply.started": "2025-05-27T00:50:41.155474Z"
    },
    "jupyter": {
     "outputs_hidden": false
    },
    "trusted": true
   },
   "outputs": [],
   "source": [
    "class CustomImageFloder(Dataset):\n",
    "    def __init__(self, dataset, indices, transform=None):\n",
    "        self.dataset = dataset\n",
    "        self.indices = indices\n",
    "        self.transform = transform\n",
    "    def __len__(self):\n",
    "        return len(self.indices)\n",
    "    def __getitem__(self, idx):\n",
    "        image, label = self.dataset[self.indices[idx]]\n",
    "        if self.transform:\n",
    "            image = self.transform(image)\n",
    "        return image, label"
   ]
  },
  {
   "cell_type": "code",
   "execution_count": 29,
   "metadata": {
    "_cell_guid": "b1f3cc3c-9874-4e0f-ae16-904fe694a1c1",
    "_uuid": "e1f86931-7609-4ed3-aa6e-c41e616a9ad6",
    "collapsed": false,
    "execution": {
     "iopub.execute_input": "2025-05-27T00:50:41.173723Z",
     "iopub.status.busy": "2025-05-27T00:50:41.173560Z",
     "iopub.status.idle": "2025-05-27T00:50:43.804564Z",
     "shell.execute_reply": "2025-05-27T00:50:43.803777Z",
     "shell.execute_reply.started": "2025-05-27T00:50:41.173710Z"
    },
    "jupyter": {
     "outputs_hidden": false
    },
    "trusted": true
   },
   "outputs": [],
   "source": [
    "dataset = datasets.ImageFolder('/home/zhengjiakun/project/zhengjiakun/dl/lfw_mini')\n",
    "indices = list(range(len(dataset)))\n",
    "labels = [dataset.targets[i] for i in indices]\n",
    "train_val_dataset, test_dataset = train_test_split(indices, test_size=0.2, stratify=labels, random_state=42)\n",
    "train_dataset, val_dataset = train_test_split(train_val_dataset, test_size=0.15, stratify=[dataset.targets[i] for i in train_val_dataset], random_state=42)"
   ]
  },
  {
   "cell_type": "code",
   "execution_count": 30,
   "metadata": {
    "_cell_guid": "644ed809-37df-4e65-b13d-200c43c8550c",
    "_uuid": "1e3439ee-aec3-4fab-b9de-254393304926",
    "collapsed": false,
    "execution": {
     "iopub.execute_input": "2025-05-27T00:50:43.805648Z",
     "iopub.status.busy": "2025-05-27T00:50:43.805381Z",
     "iopub.status.idle": "2025-05-27T00:50:43.811486Z",
     "shell.execute_reply": "2025-05-27T00:50:43.810805Z",
     "shell.execute_reply.started": "2025-05-27T00:50:43.805623Z"
    },
    "jupyter": {
     "outputs_hidden": false
    },
    "trusted": true
   },
   "outputs": [
    {
     "data": {
      "text/plain": [
       "1830"
      ]
     },
     "execution_count": 30,
     "metadata": {},
     "output_type": "execute_result"
    }
   ],
   "source": [
    "len(train_dataset), len(val_dataset), len(test_dataset)\n",
    "# image, label = dataset[0]\n",
    "# image, label\n",
    "len(dataset)"
   ]
  },
  {
   "cell_type": "code",
   "execution_count": 31,
   "metadata": {
    "_cell_guid": "88095ac4-899a-4059-aabd-2956ae168bc2",
    "_uuid": "12f6df7a-c816-4dca-a676-4a798bed34c5",
    "collapsed": false,
    "execution": {
     "iopub.execute_input": "2025-05-27T00:50:43.814858Z",
     "iopub.status.busy": "2025-05-27T00:50:43.814199Z",
     "iopub.status.idle": "2025-05-27T00:50:43.827368Z",
     "shell.execute_reply": "2025-05-27T00:50:43.826703Z",
     "shell.execute_reply.started": "2025-05-27T00:50:43.814835Z"
    },
    "jupyter": {
     "outputs_hidden": false
    },
    "trusted": true
   },
   "outputs": [],
   "source": [
    "train_dataset = CustomImageFloder(dataset, train_dataset, train_transform)\n",
    "val_dataset = CustomImageFloder(dataset, val_dataset, test_transform)\n",
    "test_dataset = CustomImageFloder(dataset, test_dataset, test_transform)"
   ]
  },
  {
   "cell_type": "code",
   "execution_count": 32,
   "metadata": {
    "_cell_guid": "6fea5879-10fb-41ec-be6e-3305e8652772",
    "_uuid": "b7e8fe44-b882-432e-a221-46e11c1d2d6e",
    "collapsed": false,
    "execution": {
     "iopub.execute_input": "2025-05-27T00:50:43.828475Z",
     "iopub.status.busy": "2025-05-27T00:50:43.828156Z",
     "iopub.status.idle": "2025-05-27T00:50:43.842328Z",
     "shell.execute_reply": "2025-05-27T00:50:43.841807Z",
     "shell.execute_reply.started": "2025-05-27T00:50:43.828447Z"
    },
    "jupyter": {
     "outputs_hidden": false
    },
    "trusted": true
   },
   "outputs": [],
   "source": [
    "# train_size = int(len(dataset) * 0.7)\n",
    "# val_size = int(len(dataset) * 0.1)\n",
    "# test_size = int(len(dataset) * 0.2)\n",
    "# train_datasets, val_datasets, test_datasets = random_split(dataset, [train_size, val_size, test_size])"
   ]
  },
  {
   "cell_type": "code",
   "execution_count": 33,
   "metadata": {
    "_cell_guid": "855dedba-de29-473a-8386-1e2d6c7d224c",
    "_uuid": "352dcec5-7e49-4ed8-99ad-6cba5090ec9e",
    "collapsed": false,
    "execution": {
     "iopub.execute_input": "2025-05-27T00:50:43.843115Z",
     "iopub.status.busy": "2025-05-27T00:50:43.842910Z",
     "iopub.status.idle": "2025-05-27T00:50:43.864406Z",
     "shell.execute_reply": "2025-05-27T00:50:43.863880Z",
     "shell.execute_reply.started": "2025-05-27T00:50:43.843094Z"
    },
    "jupyter": {
     "outputs_hidden": false
    },
    "trusted": true
   },
   "outputs": [],
   "source": [
    "train_loader = torch.utils.data.DataLoader(train_dataset, batch_size=32, shuffle=True)\n",
    "val_loader = torch.utils.data.DataLoader(val_dataset, batch_size=32, shuffle=False)\n",
    "test_loader = torch.utils.data.DataLoader(test_dataset, batch_size=32, shuffle=False)"
   ]
  },
  {
   "cell_type": "code",
   "execution_count": 34,
   "metadata": {
    "_cell_guid": "eeaff692-338d-49f4-9840-bc0e1b4067a4",
    "_uuid": "b472b6c9-c16f-4047-8ffc-bf65cf9a9cb7",
    "collapsed": false,
    "execution": {
     "iopub.execute_input": "2025-05-27T00:50:43.865118Z",
     "iopub.status.busy": "2025-05-27T00:50:43.864967Z",
     "iopub.status.idle": "2025-05-27T00:50:43.881571Z",
     "shell.execute_reply": "2025-05-27T00:50:43.881016Z",
     "shell.execute_reply.started": "2025-05-27T00:50:43.865106Z"
    },
    "jupyter": {
     "outputs_hidden": false
    },
    "trusted": true
   },
   "outputs": [],
   "source": [
    "\n",
    "# for data, target in test_loader:\n",
    "#     print(f'image size: {data.size()}')\n",
    "#     print(f\"target: {target}\")\n",
    "#     break\n",
    "# print(len(dataset.classes))\n",
    "# print(len(dataset))"
   ]
  },
  {
   "cell_type": "code",
   "execution_count": 35,
   "metadata": {
    "_cell_guid": "689ab464-a8f3-435d-8a03-0b27e9e4d795",
    "_uuid": "fcf70ace-8b83-40fe-9525-4d9b42675b26",
    "collapsed": false,
    "execution": {
     "iopub.execute_input": "2025-05-27T00:50:43.882365Z",
     "iopub.status.busy": "2025-05-27T00:50:43.882154Z",
     "iopub.status.idle": "2025-05-27T00:50:43.897487Z",
     "shell.execute_reply": "2025-05-27T00:50:43.896847Z",
     "shell.execute_reply.started": "2025-05-27T00:50:43.882333Z"
    },
    "jupyter": {
     "outputs_hidden": false
    },
    "trusted": true
   },
   "outputs": [],
   "source": [
    "# for batch in train_loader:\n",
    "#     images, labels = batch\n",
    "#     assert (labels >= 0).all() and (labels <= 214).all(), \"标签越界\"\n",
    "#     assert labels.dtype == torch.int64, \"标签需为 LongTensor\""
   ]
  },
  {
   "cell_type": "code",
   "execution_count": 36,
   "metadata": {
    "_cell_guid": "260698b1-b8b9-412e-9ed2-68368b6da677",
    "_uuid": "090a875f-deeb-43db-be9d-3af327cbbbc0",
    "collapsed": false,
    "execution": {
     "iopub.execute_input": "2025-05-27T00:50:43.898479Z",
     "iopub.status.busy": "2025-05-27T00:50:43.898198Z",
     "iopub.status.idle": "2025-05-27T00:50:59.863405Z",
     "shell.execute_reply": "2025-05-27T00:50:59.862688Z",
     "shell.execute_reply.started": "2025-05-27T00:50:43.898443Z"
    },
    "jupyter": {
     "outputs_hidden": false
    },
    "trusted": true
   },
   "outputs": [
    {
     "name": "stdout",
     "output_type": "stream",
     "text": [
      "Mean: tensor([ 0.0016, -0.0079, -0.0121])\n",
      "Std: tensor([1.0622, 1.0756, 1.0834])\n"
     ]
    }
   ],
   "source": [
    "mean = 0.0\n",
    "std = 0.0\n",
    "n_samples = 0\n",
    "for data, _ in train_loader:\n",
    "    n_samples += data.shape[0]\n",
    "    data = data.view(data.shape[0], data.shape[1], -1)\n",
    "    mean += data.mean(2).sum(0)\n",
    "    std += data.std(2).sum(0)\n",
    "mean = mean / n_samples\n",
    "std = std / n_samples\n",
    "print(f\"Mean: {mean}\")\n",
    "print(f\"Std: {std}\")"
   ]
  },
  {
   "cell_type": "code",
   "execution_count": null,
   "metadata": {
    "_cell_guid": "9c38bb01-41ec-40fe-8a9f-83b5c2aebcef",
    "_uuid": "17dac951-b674-4361-b624-14a782229f4c",
    "collapsed": false,
    "execution": {
     "iopub.execute_input": "2025-05-27T00:50:59.864387Z",
     "iopub.status.busy": "2025-05-27T00:50:59.864131Z",
     "iopub.status.idle": "2025-05-27T00:50:59.870381Z",
     "shell.execute_reply": "2025-05-27T00:50:59.869549Z",
     "shell.execute_reply.started": "2025-05-27T00:50:59.864368Z"
    },
    "jupyter": {
     "outputs_hidden": false
    },
    "trusted": true
   },
   "outputs": [],
   "source": [
    "# class Residual(nn.Module):\n",
    "#     def __init__(self, input_channels, output_channels, use_conv3=False ,stride=1):\n",
    "#         super().__init__()\n",
    "#         self.conv1 = nn.Conv2d(in_channels=input_channels, out_channels=output_channels, kernel_size=3, stride=stride, padding=1)\n",
    "#         self.conv2 = nn.Conv2d(in_channels=output_channels, out_channels=output_channels, kernel_size=3, padding=1)\n",
    "#         self.relu = nn.ReLU()\n",
    "#         self.bn1 = nn.BatchNorm2d(output_channels)\n",
    "#         self.bn2 = nn.BatchNorm2d(output_channels)\n",
    "#         if use_conv3:\n",
    "#             self.conv3 = nn.Conv2d(in_channels=input_channels, out_channels=output_channels, kernel_size=1, stride=2)\n",
    "#         else:\n",
    "#             self.conv3 = None\n",
    "    \n",
    "#     def forward(self, X):\n",
    "#         Y = self.bn1(self.conv1(X))\n",
    "#         Y = self.relu(Y)\n",
    "#         Y = self.bn2(self.conv2(Y))\n",
    "#         if self.conv3:\n",
    "#             X = self.conv3(X)\n",
    "#         return F.relu(X + Y)"
   ]
  },
  {
   "cell_type": "code",
   "execution_count": null,
   "metadata": {
    "_cell_guid": "f0f53b3b-2dc7-4883-9b84-e108c1c5cd36",
    "_uuid": "8057009f-efae-49d6-afde-ef0d26198a83",
    "collapsed": false,
    "execution": {
     "iopub.execute_input": "2025-05-27T00:50:59.871818Z",
     "iopub.status.busy": "2025-05-27T00:50:59.871553Z",
     "iopub.status.idle": "2025-05-27T00:50:59.901450Z",
     "shell.execute_reply": "2025-05-27T00:50:59.900755Z",
     "shell.execute_reply.started": "2025-05-27T00:50:59.871795Z"
    },
    "jupyter": {
     "outputs_hidden": false
    },
    "trusted": true
   },
   "outputs": [],
   "source": [
    "# class ResNet(nn.Module):\n",
    "#     def __init__(self, block, layer, num_classes=6):\n",
    "#         super(ResNet, self).__init__()\n",
    "#         self.in_channels = 64\n",
    "#         self.conv1 = nn.Conv2d(3, 64, kernel_size=7, stride=2, padding=3, bias=False)\n",
    "#         self.bn1 = nn.BatchNorm2d(64)\n",
    "#         self.relu = nn.ReLU()\n",
    "#         self.maxpool = nn.MaxPool2d(kernel_size=3, padding=1, stride=2)\n",
    "\n",
    "#         self.layer1 = nn.Sequential(*self._make_layer(block, 64, layer[0], first_block=True))\n",
    "#         self.layer2 = nn.Sequential(*self._make_layer(block, 128, layer[1]))\n",
    "#         self.layer3 = nn.Sequential(*self._make_layer(block, 256, layer[2]))\n",
    "#         self.layer4 = nn.Sequential(*self._make_layer(block, 512, layer[3]))\n",
    "\n",
    "#         self.adpavgpool = nn.AdaptiveAvgPool2d((1,1))\n",
    "#         self.dropout = nn.Dropout(0.5)\n",
    "#         self.fc = nn.Linear(512, num_classes)\n",
    "        \n",
    "    \n",
    "#     def _make_layer(self, block, out_channels, blocks, stride=1, first_block=False):\n",
    "#         layers = []\n",
    "#         for i in range(blocks):\n",
    "#             if i == 0 and not first_block:\n",
    "#                 layers.append(block(self.in_channels, out_channels, use_conv3=True, stride=2))\n",
    "#                 self.in_channels = out_channels\n",
    "#             else:\n",
    "#                 layers.append(block(self.in_channels, out_channels, stride=1))\n",
    "#         return layers\n",
    "    \n",
    "#     def forward(self, x, labels=None):\n",
    "#         x = self.bn1(self.conv1(x))\n",
    "#         x = self.relu(x)\n",
    "#         x = self.maxpool(x)\n",
    "\n",
    "#         x = self.layer1(x)\n",
    "#         x = self.layer2(x)\n",
    "#         x = self.layer3(x)\n",
    "#         x = self.layer4(x)\n",
    "\n",
    "#         x = self.adpavgpool(x)\n",
    "#         x = torch.flatten(x, 1)\n",
    "#         x = self.dropout(x)\n",
    "#         out = self.fc(x)\n",
    "#         return out "
   ]
  },
  {
   "cell_type": "code",
   "execution_count": 39,
   "metadata": {
    "_cell_guid": "d590d6c0-cf91-441d-8dd0-da2664d752e3",
    "_uuid": "12f7d922-7a77-4d6a-a58a-f18e0cb138bc",
    "collapsed": false,
    "execution": {
     "iopub.execute_input": "2025-05-27T00:50:59.902500Z",
     "iopub.status.busy": "2025-05-27T00:50:59.902230Z",
     "iopub.status.idle": "2025-05-27T00:50:59.924890Z",
     "shell.execute_reply": "2025-05-27T00:50:59.924379Z",
     "shell.execute_reply.started": "2025-05-27T00:50:59.902485Z"
    },
    "jupyter": {
     "outputs_hidden": false
    },
    "trusted": true
   },
   "outputs": [],
   "source": [
    "# model = ResNet(Residual, [2,2,2,2], num_classes=215)\n",
    "# X = torch.rand((1, 3, 224, 224))\n",
    "# model(X)"
   ]
  },
  {
   "cell_type": "code",
   "execution_count": 40,
   "metadata": {
    "execution": {
     "iopub.execute_input": "2025-05-27T00:50:59.925667Z",
     "iopub.status.busy": "2025-05-27T00:50:59.925450Z",
     "iopub.status.idle": "2025-05-27T00:50:59.943831Z",
     "shell.execute_reply": "2025-05-27T00:50:59.943298Z",
     "shell.execute_reply.started": "2025-05-27T00:50:59.925650Z"
    },
    "trusted": true
   },
   "outputs": [],
   "source": [
    "class LabelSmoothLoss(nn.Module):\n",
    "    def __init__(self, classes, smoothing=0.1):\n",
    "        super(LabelSmoothLoss, self).__init__()\n",
    "        self.confidence = 1 - smoothing\n",
    "        self.smoothing = smoothing\n",
    "        self.classes = classes\n",
    "    def forward(self, pred, target):\n",
    "        pred = pred.log_softmax(dim=-1)\n",
    "        with torch.no_grad():\n",
    "            true_list = torch.zeros_like(pred)\n",
    "            true_list.fill_(self.smoothing / (self.classes - 1))\n",
    "            true_list.scatter_(1, target.data.unsqueeze(1), self.confidence)\n",
    "        return torch.mean(torch.sum(-true_list * pred, dim=-1))\n",
    "        "
   ]
  },
  {
   "cell_type": "code",
   "execution_count": 41,
   "metadata": {
    "execution": {
     "iopub.execute_input": "2025-05-27T00:50:59.944635Z",
     "iopub.status.busy": "2025-05-27T00:50:59.944436Z",
     "iopub.status.idle": "2025-05-27T00:50:59.968959Z",
     "shell.execute_reply": "2025-05-27T00:50:59.968389Z",
     "shell.execute_reply.started": "2025-05-27T00:50:59.944621Z"
    },
    "trusted": true
   },
   "outputs": [
    {
     "data": {
      "text/plain": [
       "tensor([[1.],\n",
       "        [2.]])"
      ]
     },
     "execution_count": 41,
     "metadata": {},
     "output_type": "execute_result"
    }
   ],
   "source": [
    "x = [1, 2]\n",
    "x = torch.Tensor(x)\n",
    "x.unsqueeze(1)"
   ]
  },
  {
   "cell_type": "code",
   "execution_count": 43,
   "metadata": {
    "_cell_guid": "871d0ce4-35dd-4fd8-8a08-f617dfc7368b",
    "_uuid": "ec9af565-5a61-46f2-91d7-ce652fbeff3f",
    "collapsed": false,
    "execution": {
     "iopub.execute_input": "2025-05-27T00:50:59.970161Z",
     "iopub.status.busy": "2025-05-27T00:50:59.969800Z",
     "iopub.status.idle": "2025-05-27T00:51:00.886551Z",
     "shell.execute_reply": "2025-05-27T00:51:00.885969Z",
     "shell.execute_reply.started": "2025-05-27T00:50:59.970142Z"
    },
    "jupyter": {
     "outputs_hidden": false
    },
    "trusted": true
   },
   "outputs": [
    {
     "name": "stderr",
     "output_type": "stream",
     "text": [
      "100%|██████████| 107M/107M [00:48<00:00, 2.33MB/s] \n"
     ]
    }
   ],
   "source": [
    "device = torch.device('cuda' if torch.cuda.is_available() else 'cpu')\n",
    "# model = ResNet(Residual, [2,2,2,2], 215)\n",
    "# if torch.cuda.device_count() > 1:\n",
    "#     print(\"use muti-GPU\")\n",
    "#     model = nn.DataParallel(model)\n",
    "# model = resnet18(weights=ResNet18_Weights.IMAGENET1K_V1)\n",
    "model = InceptionResnetV1(pretrained='vggface2', classify=True, num_classes=215)\n",
    "# model.fc = nn.Linear(model.fc.in_features, 215)\n",
    "for param in model.parameters():\n",
    "    param.requires_grad = False\n",
    "for param in model.logits.parameters():\n",
    "    param.requires_grad = True\n",
    "model.to(device)\n",
    "# criterion = nn.CrossEntropyLoss()\n",
    "criterion = LabelSmoothLoss(215, 0.05)\n",
    "optimizer = torch.optim.Adam(model.parameters(), lr=0.0001, weight_decay=0.005)\n"
   ]
  },
  {
   "cell_type": "code",
   "execution_count": 44,
   "metadata": {},
   "outputs": [
    {
     "data": {
      "text/plain": [
       "device(type='cuda')"
      ]
     },
     "execution_count": 44,
     "metadata": {},
     "output_type": "execute_result"
    }
   ],
   "source": [
    "device "
   ]
  },
  {
   "cell_type": "code",
   "execution_count": null,
   "metadata": {
    "_cell_guid": "726b4548-58da-4201-afea-6f216ee47aeb",
    "_uuid": "11f330a3-0bf1-4e53-afc5-d6420224c8ac",
    "collapsed": false,
    "execution": {
     "iopub.execute_input": "2025-05-27T00:51:00.887505Z",
     "iopub.status.busy": "2025-05-27T00:51:00.887224Z",
     "iopub.status.idle": "2025-05-27T01:26:30.700456Z",
     "shell.execute_reply": "2025-05-27T01:26:30.699841Z",
     "shell.execute_reply.started": "2025-05-27T00:51:00.887476Z"
    },
    "jupyter": {
     "outputs_hidden": false
    },
    "trusted": true
   },
   "outputs": [
    {
     "name": "stdout",
     "output_type": "stream",
     "text": [
      "Epoch: 1, train_loss: 5.3725, test_loss: 5.1999, Accuracy: 0.02727272727272727\n",
      "Epoch: 6, train_loss: 4.0541, test_loss: 4.0100, Accuracy: 0.4954545454545455\n",
      "Epoch: 11, train_loss: 2.9973, test_loss: 3.0413, Accuracy: 0.7954545454545454\n",
      "Epoch: 16, train_loss: 2.2092, test_loss: 2.3711, Accuracy: 0.8681818181818182\n",
      "Epoch: 21, train_loss: 1.6900, test_loss: 1.8897, Accuracy: 0.9090909090909091\n",
      "Epoch: 26, train_loss: 1.3700, test_loss: 1.5687, Accuracy: 0.9227272727272727\n",
      "Epoch: 31, train_loss: 1.1986, test_loss: 1.3778, Accuracy: 0.9227272727272727\n",
      "Epoch: 36, train_loss: 1.0650, test_loss: 1.2255, Accuracy: 0.9227272727272727\n",
      "Epoch: 41, train_loss: 0.9582, test_loss: 1.1452, Accuracy: 0.9227272727272727\n",
      "Epoch: 46, train_loss: 0.8840, test_loss: 1.0754, Accuracy: 0.9318181818181818\n",
      "Epoch: 51, train_loss: 0.8510, test_loss: 1.0188, Accuracy: 0.9318181818181818\n",
      "Epoch: 56, train_loss: 0.8190, test_loss: 0.9800, Accuracy: 0.9363636363636364\n",
      "Epoch: 61, train_loss: 0.7883, test_loss: 0.9475, Accuracy: 0.9363636363636364\n",
      "Epoch: 66, train_loss: 0.7957, test_loss: 0.9235, Accuracy: 0.9409090909090909\n",
      "Epoch: 71, train_loss: 0.7547, test_loss: 0.9073, Accuracy: 0.95\n",
      "Epoch: 76, train_loss: 0.7530, test_loss: 0.8699, Accuracy: 0.9409090909090909\n",
      "Epoch: 81, train_loss: 0.7373, test_loss: 0.8841, Accuracy: 0.9409090909090909\n",
      "Epoch: 86, train_loss: 0.7420, test_loss: 0.8847, Accuracy: 0.9363636363636364\n",
      "Epoch: 91, train_loss: 0.7352, test_loss: 0.8588, Accuracy: 0.9454545454545454\n",
      "Epoch: 96, train_loss: 0.7353, test_loss: 0.8564, Accuracy: 0.9454545454545454\n",
      "Epoch: 101, train_loss: 0.7355, test_loss: 0.8427, Accuracy: 0.95\n",
      "Epoch: 106, train_loss: 0.7303, test_loss: 0.8679, Accuracy: 0.9363636363636364\n",
      "Epoch: 111, train_loss: 0.7170, test_loss: 0.8409, Accuracy: 0.95\n",
      "Epoch: 116, train_loss: 0.7350, test_loss: 0.8476, Accuracy: 0.9409090909090909\n",
      "EarlyStopping\n"
     ]
    }
   ],
   "source": [
    "best_val_loss = float('inf')  \n",
    "patience = 15                  \n",
    "counter = 0  \n",
    "train_losses = []\n",
    "test_losses = []\n",
    "for epoch in range(200):\n",
    "    model.train()\n",
    "    train_loss = 0.0\n",
    "    for X, y in train_loader:\n",
    "        X = X.to(device)\n",
    "        y = y.to(device)\n",
    "        optimizer.zero_grad()\n",
    "        pred = model(X)\n",
    "        loss = criterion(pred, y)\n",
    "        loss.backward()\n",
    "        optimizer.step()\n",
    "\n",
    "        train_loss += loss.item()\n",
    "    train_losses.append(train_loss / len(train_loader))\n",
    "    \n",
    "    model.eval()\n",
    "    with torch.no_grad():\n",
    "        acc = 0.0\n",
    "        test_loss = 0.0\n",
    "        for X, y in val_loader:\n",
    "            X = X.to(device)\n",
    "            y = y.to(device)\n",
    "            pred = model(X)\n",
    "            loss = criterion(pred, y)\n",
    "            test_loss += loss.item()\n",
    "            acc += (pred.argmax(dim=1) == y).sum().item()\n",
    "    test_losses.append(test_loss / len(val_loader))\n",
    "    if epoch % 5 == 0:\n",
    "        print(f\"Epoch: {epoch + 1}, train_loss: {train_loss / len(train_loader):.4f}, test_loss: {test_loss / len(val_loader):.4f}, Accuracy: {acc / len(val_loader.dataset)}\")\n",
    "    if test_loss < best_val_loss:\n",
    "        best_val_loss = test_loss\n",
    "        counter = 0\n",
    "        torch.save(model.state_dict(), 'VGGFace.pth')\n",
    "    else:\n",
    "        counter += 1\n",
    "        if counter >= patience:\n",
    "            print(\"EarlyStopping\")\n",
    "            break"
   ]
  },
  {
   "cell_type": "code",
   "execution_count": 46,
   "metadata": {
    "execution": {
     "iopub.execute_input": "2025-05-27T01:26:30.701406Z",
     "iopub.status.busy": "2025-05-27T01:26:30.701192Z",
     "iopub.status.idle": "2025-05-27T01:26:31.015512Z",
     "shell.execute_reply": "2025-05-27T01:26:31.014806Z",
     "shell.execute_reply.started": "2025-05-27T01:26:30.701390Z"
    },
    "trusted": true
   },
   "outputs": [
    {
     "data": {
      "image/png": "[encoded data removed]",
      "text/plain": [
       "<Figure size 800x800 with 1 Axes>"
      ]
     },
     "metadata": {},
     "output_type": "display_data"
    }
   ],
   "source": [
    "plt.figure(figsize=(8, 8))\n",
    "plt.plot(train_losses, label='train_loss')\n",
    "plt.plot(test_losses, label='test_loss')\n",
    "plt.legend()\n",
    "plt.show()"
   ]
  },
  {
   "cell_type": "code",
   "execution_count": null,
   "metadata": {
    "_cell_guid": "4b5194bc-edb4-4c9a-832f-5d528605f5ae",
    "_uuid": "f2e036d6-9817-45c7-89cb-a3a8b6033d49",
    "collapsed": false,
    "execution": {
     "iopub.execute_input": "2025-05-27T01:26:31.017007Z",
     "iopub.status.busy": "2025-05-27T01:26:31.016426Z",
     "iopub.status.idle": "2025-05-27T01:26:35.806622Z",
     "shell.execute_reply": "2025-05-27T01:26:35.805857Z",
     "shell.execute_reply.started": "2025-05-27T01:26:31.016985Z"
    },
    "jupyter": {
     "outputs_hidden": false
    },
    "trusted": true
   },
   "outputs": [
    {
     "name": "stdout",
     "output_type": "stream",
     "text": [
      "test_loss: 0.8647, Accuracy: 0.953551912568306\n"
     ]
    }
   ],
   "source": [
    "model.load_state_dict(torch.load('VGGFace.pth'))\n",
    "model.eval()\n",
    "with torch.no_grad():\n",
    "    acc = 0.0\n",
    "    test_loss = 0.0\n",
    "    for X, y in test_loader:\n",
    "        X = X.to(device)\n",
    "        y = y.to(device)\n",
    "        pred = model(X)\n",
    "        loss = criterion(pred, y)\n",
    "        test_loss += loss.item()\n",
    "        acc += (pred.argmax(dim=1) == y).sum().item()\n",
    "    print(f\"test_loss: {test_loss / len(test_loader):.4f}, Accuracy: {acc / len(test_loader.dataset)}\")"
   ]
  }
 ],
 "metadata": {
  "kaggle": {
   "accelerator": "nvidiaTeslaT4",
   "dataSources": [
    {
     "datasetId": 7466366,
     "sourceId": 11880195,
     "sourceType": "datasetVersion"
    },
    {
     "datasetId": 7491865,
     "sourceId": 11917296,
     "sourceType": "datasetVersion"
    }
   ],
   "isGpuEnabled": true,
   "isInternetEnabled": true,
   "language": "python",
   "sourceType": "notebook"
  },
  "kernelspec": {
   "display_name": "python39",
   "language": "python",
   "name": "python3"
  },
  "language_info": {
   "codemirror_mode": {
    "name": "ipython",
    "version": 3
   },
   "file_extension": ".py",
   "mimetype": "text/x-python",
   "name": "python",
   "nbconvert_exporter": "python",
   "pygments_lexer": "ipython3",
   "version": "3.9.20"
  }
 },
 "nbformat": 4,
 "nbformat_minor": 4
}
